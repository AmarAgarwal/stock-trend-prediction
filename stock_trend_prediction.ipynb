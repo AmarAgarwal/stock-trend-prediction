{
 "cells": [
  {
   "cell_type": "code",
   "execution_count": 87,
   "metadata": {},
   "outputs": [],
   "source": [
    "import numpy as np\n",
    "import pandas as pd\n",
    "import matplotlib.pyplot as plt\n",
    "import pickle"
   ]
  },
  {
   "cell_type": "code",
   "execution_count": 44,
   "metadata": {},
   "outputs": [
    {
     "name": "stdout",
     "output_type": "stream",
     "text": [
      "(3653, 7)\n"
     ]
    }
   ],
   "source": [
    "df=pd.read_csv(\"C:/Users/Abhi/Documents/Downloads/finalprocessed_data.csv\")\n",
    "print(df.shape)"
   ]
  },
  {
   "cell_type": "code",
   "execution_count": 46,
   "metadata": {},
   "outputs": [
    {
     "data": {
      "text/html": [
       "<div>\n",
       "<style scoped>\n",
       "    .dataframe tbody tr th:only-of-type {\n",
       "        vertical-align: middle;\n",
       "    }\n",
       "\n",
       "    .dataframe tbody tr th {\n",
       "        vertical-align: top;\n",
       "    }\n",
       "\n",
       "    .dataframe thead th {\n",
       "        text-align: right;\n",
       "    }\n",
       "</style>\n",
       "<table border=\"1\" class=\"dataframe\">\n",
       "  <thead>\n",
       "    <tr style=\"text-align: right;\">\n",
       "      <th></th>\n",
       "      <th>Close_Price</th>\n",
       "      <th>Adjusted_Close_price</th>\n",
       "      <th>Tweets</th>\n",
       "      <th>Comp</th>\n",
       "      <th>Negative</th>\n",
       "      <th>Positive</th>\n",
       "      <th>Neutral</th>\n",
       "    </tr>\n",
       "  </thead>\n",
       "  <tbody>\n",
       "    <tr>\n",
       "      <th>0</th>\n",
       "      <td>12469.97188</td>\n",
       "      <td>12469.97188</td>\n",
       "      <td>stick 06 somalia order islamist turn weapon te...</td>\n",
       "      <td>-0.9866</td>\n",
       "      <td>0.222</td>\n",
       "      <td>0.128</td>\n",
       "      <td>0.650</td>\n",
       "    </tr>\n",
       "    <tr>\n",
       "      <th>1</th>\n",
       "      <td>12472.24570</td>\n",
       "      <td>12472.24570</td>\n",
       "      <td>heart health vitamin prevent death heart disea...</td>\n",
       "      <td>-0.9792</td>\n",
       "      <td>0.157</td>\n",
       "      <td>0.111</td>\n",
       "      <td>0.732</td>\n",
       "    </tr>\n",
       "    <tr>\n",
       "      <th>2</th>\n",
       "      <td>12474.51953</td>\n",
       "      <td>12474.51953</td>\n",
       "      <td>google answer filling job algorithm germany da...</td>\n",
       "      <td>-0.9984</td>\n",
       "      <td>0.209</td>\n",
       "      <td>0.074</td>\n",
       "      <td>0.717</td>\n",
       "    </tr>\n",
       "    <tr>\n",
       "      <th>3</th>\n",
       "      <td>12480.69043</td>\n",
       "      <td>12480.69043</td>\n",
       "      <td>helping make shift combat commerce addendum in...</td>\n",
       "      <td>-0.9965</td>\n",
       "      <td>0.141</td>\n",
       "      <td>0.071</td>\n",
       "      <td>0.788</td>\n",
       "    </tr>\n",
       "    <tr>\n",
       "      <th>4</th>\n",
       "      <td>12398.00977</td>\n",
       "      <td>12398.00977</td>\n",
       "      <td>rise ethanol raise concern corn food new major...</td>\n",
       "      <td>-0.9914</td>\n",
       "      <td>0.160</td>\n",
       "      <td>0.106</td>\n",
       "      <td>0.734</td>\n",
       "    </tr>\n",
       "    <tr>\n",
       "      <th>5</th>\n",
       "      <td>12406.50326</td>\n",
       "      <td>12406.50326</td>\n",
       "      <td>status quo secretary general best buy circuit ...</td>\n",
       "      <td>-0.9648</td>\n",
       "      <td>0.174</td>\n",
       "      <td>0.125</td>\n",
       "      <td>0.701</td>\n",
       "    </tr>\n",
       "    <tr>\n",
       "      <th>6</th>\n",
       "      <td>12414.99674</td>\n",
       "      <td>12414.99674</td>\n",
       "      <td>common application typocom jumbo bonus dial en...</td>\n",
       "      <td>-0.9966</td>\n",
       "      <td>0.251</td>\n",
       "      <td>0.113</td>\n",
       "      <td>0.636</td>\n",
       "    </tr>\n",
       "    <tr>\n",
       "      <th>7</th>\n",
       "      <td>12423.49023</td>\n",
       "      <td>12423.49023</td>\n",
       "      <td>vw group sale rose sharply 2006 console sale b...</td>\n",
       "      <td>0.8955</td>\n",
       "      <td>0.114</td>\n",
       "      <td>0.134</td>\n",
       "      <td>0.752</td>\n",
       "    </tr>\n",
       "    <tr>\n",
       "      <th>8</th>\n",
       "      <td>12416.59961</td>\n",
       "      <td>12416.59961</td>\n",
       "      <td>claim hot leftover cool room temperature ill f...</td>\n",
       "      <td>-0.9967</td>\n",
       "      <td>0.151</td>\n",
       "      <td>0.079</td>\n",
       "      <td>0.770</td>\n",
       "    </tr>\n",
       "    <tr>\n",
       "      <th>9</th>\n",
       "      <td>12442.16016</td>\n",
       "      <td>12442.16016</td>\n",
       "      <td>love among ruin dell say plant tree help envir...</td>\n",
       "      <td>-0.9733</td>\n",
       "      <td>0.151</td>\n",
       "      <td>0.129</td>\n",
       "      <td>0.720</td>\n",
       "    </tr>\n",
       "  </tbody>\n",
       "</table>\n",
       "</div>"
      ],
      "text/plain": [
       "   Close_Price  Adjusted_Close_price  \\\n",
       "0  12469.97188           12469.97188   \n",
       "1  12472.24570           12472.24570   \n",
       "2  12474.51953           12474.51953   \n",
       "3  12480.69043           12480.69043   \n",
       "4  12398.00977           12398.00977   \n",
       "5  12406.50326           12406.50326   \n",
       "6  12414.99674           12414.99674   \n",
       "7  12423.49023           12423.49023   \n",
       "8  12416.59961           12416.59961   \n",
       "9  12442.16016           12442.16016   \n",
       "\n",
       "                                              Tweets    Comp  Negative  \\\n",
       "0  stick 06 somalia order islamist turn weapon te... -0.9866     0.222   \n",
       "1  heart health vitamin prevent death heart disea... -0.9792     0.157   \n",
       "2  google answer filling job algorithm germany da... -0.9984     0.209   \n",
       "3  helping make shift combat commerce addendum in... -0.9965     0.141   \n",
       "4  rise ethanol raise concern corn food new major... -0.9914     0.160   \n",
       "5  status quo secretary general best buy circuit ... -0.9648     0.174   \n",
       "6  common application typocom jumbo bonus dial en... -0.9966     0.251   \n",
       "7  vw group sale rose sharply 2006 console sale b...  0.8955     0.114   \n",
       "8  claim hot leftover cool room temperature ill f... -0.9967     0.151   \n",
       "9  love among ruin dell say plant tree help envir... -0.9733     0.151   \n",
       "\n",
       "   Positive  Neutral  \n",
       "0     0.128    0.650  \n",
       "1     0.111    0.732  \n",
       "2     0.074    0.717  \n",
       "3     0.071    0.788  \n",
       "4     0.106    0.734  \n",
       "5     0.125    0.701  \n",
       "6     0.113    0.636  \n",
       "7     0.134    0.752  \n",
       "8     0.079    0.770  \n",
       "9     0.129    0.720  "
      ]
     },
     "execution_count": 46,
     "metadata": {},
     "output_type": "execute_result"
    }
   ],
   "source": [
    "df.head(10)"
   ]
  },
  {
   "cell_type": "code",
   "execution_count": 18,
   "metadata": {},
   "outputs": [
    {
     "name": "stdout",
     "output_type": "stream",
     "text": [
      "Neutral                 0.0\n",
      "Positive                0.0\n",
      "Negative                0.0\n",
      "Comp                    0.0\n",
      "Tweets                  0.0\n",
      "Adjusted_Close_price    0.0\n",
      "Close_Price             0.0\n",
      "dtype: float64\n"
     ]
    }
   ],
   "source": [
    "na_percentage=(df.isnull().sum()/df.shape[0]*100).sort_values(ascending=False)\n",
    "print(na_percentage)"
   ]
  },
  {
   "cell_type": "code",
   "execution_count": 20,
   "metadata": {},
   "outputs": [
    {
     "data": {
      "text/plain": [
       "<matplotlib.axes._subplots.AxesSubplot at 0x2f46ab5f208>"
      ]
     },
     "execution_count": 20,
     "metadata": {},
     "output_type": "execute_result"
    },
    {
     "data": {
      "image/png": "[encoded data removed]",
      "text/plain": [
       "<Figure size 1440x1152 with 2 Axes>"
      ]
     },
     "metadata": {},
     "output_type": "display_data"
    }
   ],
   "source": [
    "import seaborn as sns\n",
    "corr=df.corr()\n",
    "corr=np.abs(corr)\n",
    "sns.set(rc={'figure.figsize':(20,16)})\n",
    "hm=sns.heatmap(corr,annot=True)\n",
    "hm"
   ]
  },
  {
   "cell_type": "code",
   "execution_count": 23,
   "metadata": {},
   "outputs": [],
   "source": [
    "X=df['Comp']\n",
    "y=df['Close_Price']"
   ]
  },
  {
   "cell_type": "code",
   "execution_count": 72,
   "metadata": {},
   "outputs": [],
   "source": [
    "from sklearn.model_selection import train_test_split\n",
    "X_train, X_test, y_train, y_pred = train_test_split(X, y, test_size=0.33, random_state=42)"
   ]
  },
  {
   "cell_type": "code",
   "execution_count": 73,
   "metadata": {},
   "outputs": [],
   "source": [
    "X_train=np.array(X_train).reshape((-1,1))\n",
    "y_train=np.array(y_train).reshape((-1,1))\n",
    "X_test=np.array(X_test).reshape((-1,1))\n",
    "y_pred=np.array(y_test).reshape((-1,1))"
   ]
  },
  {
   "cell_type": "code",
   "execution_count": 74,
   "metadata": {},
   "outputs": [
    {
     "name": "stderr",
     "output_type": "stream",
     "text": [
      "C:\\ProgramData\\Anaconda3\\lib\\site-packages\\ipykernel_launcher.py:4: DataConversionWarning: A column-vector y was passed when a 1d array was expected. Please change the shape of y to (n_samples,), for example using ravel().\n",
      "  after removing the cwd from sys.path.\n"
     ]
    },
    {
     "data": {
      "text/plain": [
       "array([11717.77402298, 13931.3918256 , 12974.52456934, ...,\n",
       "       14777.47847499, 15656.8234486 , 13813.76130101])"
      ]
     },
     "execution_count": 74,
     "metadata": {},
     "output_type": "execute_result"
    }
   ],
   "source": [
    "from sklearn.ensemble import RandomForestRegressor\n",
    "from sklearn.metrics import accuracy_score\n",
    "Rr=RandomForestRegressor()\n",
    "Rr.fit(X_train, y_train)\n",
    "Rr.predict(X_test)"
   ]
  },
  {
   "cell_type": "code",
   "execution_count": 90,
   "metadata": {},
   "outputs": [],
   "source": [
    "fname='C:/Users/Abhi/Documents/Downloads/stock_prediction'\n",
    "pickle.dump(Rr,open(fname,'wb'))"
   ]
  },
  {
   "cell_type": "code",
   "execution_count": 91,
   "metadata": {},
   "outputs": [
    {
     "data": {
      "text/plain": [
       "array([11717.77402298, 13931.3918256 , 12974.52456934, ...,\n",
       "       14777.47847499, 15656.8234486 , 13813.76130101])"
      ]
     },
     "execution_count": 91,
     "metadata": {},
     "output_type": "execute_result"
    }
   ],
   "source": [
    "model=pickle.load(open(fname,'rb'))\n",
    "model.predict(X_test)"
   ]
  },
  {
   "cell_type": "code",
   "execution_count": null,
   "metadata": {},
   "outputs": [],
   "source": []
  },
  {
   "cell_type": "code",
   "execution_count": null,
   "metadata": {},
   "outputs": [],
   "source": []
  }
 ],
 "metadata": {
  "kernelspec": {
   "display_name": "Python 3",
   "language": "python",
   "name": "python3"
  },
  "language_info": {
   "codemirror_mode": {
    "name": "ipython",
    "version": 3
   },
   "file_extension": ".py",
   "mimetype": "text/x-python",
   "name": "python",
   "nbconvert_exporter": "python",
   "pygments_lexer": "ipython3",
   "version": "3.7.6"
  }
 },
 "nbformat": 4,
 "nbformat_minor": 4
}
